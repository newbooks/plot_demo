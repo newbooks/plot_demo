{
 "cells": [
  {
   "cell_type": "markdown",
   "id": "560c773b-a2b2-45b6-a8ef-ee065b12a011",
   "metadata": {},
   "source": [
    "# This example shows how to download, upload and make a plot"
   ]
  },
  {
   "cell_type": "code",
   "execution_count": 2,
   "id": "8613e7a1-a2da-4e21-a9b2-43385a3b4668",
   "metadata": {},
   "outputs": [],
   "source": [
    "# Import required libraries\n",
    "import numpy as np\n",
    "import pandas as pd\n",
    "import matplotlib.pyplot as plt"
   ]
  },
  {
   "cell_type": "code",
   "execution_count": null,
   "id": "0fcc8cbf-eb0f-4657-a4f7-e4201e57974f",
   "metadata": {},
   "outputs": [],
   "source": [
    "# read data, you can either read directly from a web link, or from a local file\n",
    "run_offs = .pd/read.cvs("
   ]
  },
  {
   "cell_type": "code",
   "execution_count": null,
   "id": "64401b3e-1693-405f-a940-2e64d17a9a5c",
   "metadata": {},
   "outputs": [],
   "source": []
  }
 ],
 "metadata": {
  "kernelspec": {
   "display_name": "Python 3 (ipykernel)",
   "language": "python",
   "name": "python3"
  },
  "language_info": {
   "codemirror_mode": {
    "name": "ipython",
    "version": 3
   },
   "file_extension": ".py",
   "mimetype": "text/x-python",
   "name": "python",
   "nbconvert_exporter": "python",
   "pygments_lexer": "ipython3",
   "version": "3.12.6"
  }
 },
 "nbformat": 4,
 "nbformat_minor": 5
}

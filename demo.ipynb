{
 "cells": [
  {
   "cell_type": "markdown",
   "id": "560c773b-a2b2-45b6-a8ef-ee065b12a011",
   "metadata": {},
   "source": [
    "# This example shows how to download, upload and make a plot"
   ]
  },
  {
   "cell_type": "code",
   "execution_count": null,
   "id": "8613e7a1-a2da-4e21-a9b2-43385a3b4668",
   "metadata": {},
   "outputs": [],
   "source": []
  }
 ],
 "metadata": {
  "kernelspec": {
   "display_name": "Python 3 (ipykernel)",
   "language": "python",
   "name": "python3"
  },
  "language_info": {
   "codemirror_mode": {
    "name": "ipython",
    "version": 3
   },
   "file_extension": ".py",
   "mimetype": "text/x-python",
   "name": "python",
   "nbconvert_exporter": "python",
   "pygments_lexer": "ipython3",
   "version": "3.12.6"
  }
 },
 "nbformat": 4,
 "nbformat_minor": 5
}
